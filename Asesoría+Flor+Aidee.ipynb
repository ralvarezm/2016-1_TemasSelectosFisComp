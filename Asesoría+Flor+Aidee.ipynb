{
  "nbformat": 4,
  "nbformat_minor": 0,
  "metadata": {
    "kernelspec": {
      "display_name": "Python 3",
      "language": "python",
      "name": "python3"
    },
    "language_info": {
      "codemirror_mode": {
        "name": "ipython",
        "version": 3
      },
      "file_extension": ".py",
      "mimetype": "text/x-python",
      "name": "python",
      "nbconvert_exporter": "python",
      "pygments_lexer": "ipython3",
      "version": "3.6.0"
    },
    "colab": {
      "name": "Asesoría+Flor+Aidee.ipynb",
      "provenance": [],
      "collapsed_sections": [],
      "include_colab_link": true
    }
  },
  "cells": [
    {
      "cell_type": "markdown",
      "metadata": {
        "id": "view-in-github",
        "colab_type": "text"
      },
      "source": [
        "<a href=\"https://colab.research.google.com/github/ralvarezm/2016-1_TemasSelectosFisComp/blob/master/Asesor%C3%ADa%2BFlor%2BAidee.ipynb\" target=\"_parent\"><img src=\"https://colab.research.google.com/assets/colab-badge.svg\" alt=\"Open In Colab\"/></a>"
      ]
    },
    {
      "cell_type": "markdown",
      "metadata": {
        "id": "0TOr5LQU98Zo",
        "colab_type": "text"
      },
      "source": [
        "# Asesoría Flor Aidee           \n",
        "#### Autor:Raúl Álvarez Mendoza\n",
        "6/04/2020"
      ]
    },
    {
      "cell_type": "markdown",
      "metadata": {
        "id": "KGc_f91498Zp",
        "colab_type": "text"
      },
      "source": [
        "La ecuación diferencial en su forma vectorial, obtenida a partir de la segunda ley de Newton, está dada en este caso por:\n",
        "\n",
        "$$m\\mathbf{a}=m\\frac{d^2 \\mathbf{x}}{dt^2}=\\underbrace{\\mathbf{F}_{\\text{gravedad}}+\\mathbf{F}_{r}}_{\\text{Suma de fuerzas}}=-m\\mathbf{g}-mb\\mathbf{v}=-m\\mathbf{g}-mb{\\frac{d\\mathbf{x}}{dt}}, \\hspace{35mm} (1)$$\n",
        "\n",
        "donde $\\mathbf{x}=(x,y)$, $\\mathbf{v}=(v_x,v_y)$, $\\mathbf{a}=(a_x,a_y)$ y $\\mathbf{g}=(0, g)$ donde $g=9.81$ $m/s^2$. Los signos se escogieron de tal forma que el movimiento de subida corresponda a velocidades positivas y el de caída a velocidades negativas.\n",
        "\n",
        "Dividiendo $(1)$ entre la masa $m$ y reordenando términos, se obtiene:\n",
        "\n",
        "$$\\frac{d^2 \\mathbf{x}}{dt^2}+b{\\frac{d\\mathbf{x}}{dt}}+\\mathbf{g}=0. \\hspace{35mm} (2)$$\n",
        "\n",
        "\n",
        "\n",
        "\n",
        "\n",
        "\n",
        "La ecuación unidimensional correspondiente al eje $x$\n",
        "\n",
        "$$\\frac{d^2 x}{dt^2}+b{\\frac{dx}{dt}}=0, \\hspace{35mm} (3)$$\n",
        "\n",
        "\n",
        "\n",
        "se puede resolver por simple separación de variables de la siguiente manera:\n",
        "\n",
        "\\begin{equation}\n",
        "\\hspace{-45mm} \\frac{d^2 x}{dt^2}=\\frac{dv_x}{dt}=-b\\frac{dx}{dt}=-bv_x \\\\\n",
        "\\hspace{-45mm}\\iff \\frac{dv_x}{v_x}=-b{dt} \\\\\n",
        "\\hspace{-45mm}\\iff \\int_{v_{x_0}}^{v_x}\\frac{dv_x}{v_x}=-b\\int_{t_0=0}^{t}dt \\\\\n",
        "\\hspace{-45mm} \\iff \\ln\\left(\\frac{v_x(t)}{v_{x_0}}\\right)=-bt \\\\\n",
        "\\iff v_x(t)=v_{x_0}e^{-bt}. \\hspace{35mm} (3)\n",
        "\\end{equation}\n",
        "\n",
        "Volviendo a integrar (4), se obtiene $x(t)$:\n",
        "\n",
        "\\begin{equation}\n",
        "\\hspace{-45mm} v_x(t)=\\frac{dx}{dt}=v_{x_0}e^{-bt}\\\\\n",
        "\\hspace{-45mm} \\iff \\int_{x_0=0}^x dx=v_{x_0}\\int_{t_0=0}^t e^{-bt}dt\\\\\n",
        "\\iff x(t)=\\frac{v_{x_0}}{b}(1-e^{-bt}). \\hspace{35mm} (5)\n",
        "\\end{equation}\n",
        "\n",
        "\n",
        "Por otro lado, para resolver la ecuación correspondiente al eje y\n",
        "\n",
        "$$\\frac{d^2 y}{dt^2}+b{\\frac{dy}{dt}}+g=0, \\hspace{35mm} (6)$$\n",
        "\n"
      ]
    },
    {
      "cell_type": "markdown",
      "metadata": {
        "id": "y_lH6Db298Zq",
        "colab_type": "text"
      },
      "source": [
        "se reescribe como:\n",
        "\\begin{equation}\n",
        "\\frac{dv_y}{dt}+bv_y+g=0, \\hspace{35mm} (7)\n",
        "\\end{equation}"
      ]
    },
    {
      "cell_type": "markdown",
      "metadata": {
        "id": "WQDpJm7m98Zr",
        "colab_type": "text"
      },
      "source": [
        "de donde se obtiene\n",
        "\\begin{equation}\n",
        "\\hspace{-35mm}\\frac{dv_y}{bv_y+g}=-dt \\\\\n",
        "\\hspace{-35mm}\\iff \\int_{v_{y_0}}^{v_y}\\frac{dv_y}{bv_y+g}=-\\int_{t_0=0}^t dt \\\\\n",
        "\\hspace{-35mm}\\iff \\frac{1}{b}\\ln\\left(\\frac{bv_y+g}{bv_{y_0}+g}\\right)=-t \\\\\n",
        "\\hspace{-35mm}\\iff bv_y+g=e^{-bt} \\left(bv_{y_0}+g\\right) \\\\\n",
        "\\iff v_y=\\frac{e^{-bt}}{b} \\left(bv_{y_0}+g\\right)-\\frac{g}{b}. \\hspace{30mm} (8)\n",
        "\\end{equation}"
      ]
    },
    {
      "cell_type": "markdown",
      "metadata": {
        "id": "BFgn3JrG98Zs",
        "colab_type": "text"
      },
      "source": [
        "Finalmente, se integra de nuevo la Ec. (8):\n",
        "\\begin{equation}\n",
        "\\hspace{-35mm} v_y=\\frac{dy}{dt}=\\frac{e^{-bt}}{b} \\left(bv_{y_0}+g\\right)-\\frac{g}{b} \\\\\n",
        "\\hspace{-35mm} \\iff \\int_{y_{0}=0}^y dy=\\frac{\\left(bv_{y_0}+g\\right)}{b}\\int_{t_{0}=0}^t e^{-bt}dt-\\frac{g}{b}\\int_{t_{0}=0}^{t}dt \\\\\n",
        "\\hspace{-35mm} \\iff y(t)=\\frac{1}{b}\\left(v_{y_0}+\\frac{g}{b}\\right)(1-e^{-bt})-\\frac{gt}{b} \\\\\n",
        "\\end{equation}"
      ]
    },
    {
      "cell_type": "markdown",
      "metadata": {
        "id": "ZxhjxokO-nuk",
        "colab_type": "text"
      },
      "source": [
        "--------------------------------------------------------------------------------"
      ]
    },
    {
      "cell_type": "markdown",
      "metadata": {
        "collapsed": true,
        "id": "7ickYsKz98Zs",
        "colab_type": "text"
      },
      "source": [
        "a) <br>\n",
        "Sea $Y(t)=Y_1 (t) - Y_2(t)$. Nótese que:\n",
        "$$aY''+bY'+cY=a(Y_1-Y_2)''+b(Y_1-Y_2)'+c(Y_1-Y_2) \\\\=(aY_1''+baY_1'+cY_1)-(aY_2''+baY_2'+cY_2)=g(t)-g(t)=0$$\n",
        "Por lo que $Y$ es solución de la ecuación homogénea asociada:\n",
        "$$aY''+bY'+cY=0,$$\n"
      ]
    },
    {
      "cell_type": "markdown",
      "metadata": {
        "id": "ECcHAAZl98Zt",
        "colab_type": "text"
      },
      "source": [
        "cuyo polinomio característico está dado por:\n",
        "$$ar^2+br+cr.$$\n",
        "Como $a,b,c\\gt0$, se observa que para que el polinomio sea igual a cero, cualquier raíz real debe ser negativa, i.e $r_1, r_2 <0$ en las soluciones siguientes de la ecuación homogénea:\n",
        "\n",
        "$$Y(t)=c_1e^{r_1t}+c_2e^{r_2t} \\hspace{3mm} (b^2-4ac >0,\\hspace{3mm} \\text{2 raíces reales distintas.})$$\n",
        "$$Y(t)=c_1e^{r_1t}+c_2te^{r_2t} \\hspace{3mm} (b^2-4ac =0,\\hspace{3mm} \\text{2 raíces reales iguales.})$$\n",
        "\n",
        "Es fácil ver que ambas soluciones tienden a $0$ cuando $t\\to \\infty$ ya que $e^{rt}\\to 0$ cuando $t\\to \\infty$ cuando $r<0$. <br>\n",
        "Si $b^2-4ac <0$ las raíces del polinomio característico son complejas, i.e $r_1 = \\alpha + \\beta i$ y $r_2 = \\alpha - \\beta i$, donde la parte real $\\alpha=-b/2a<0$. La solución de la ecuación homogénea en dicho caso es:\n",
        "\n",
        "$$Y(t)=e^{\\alpha t}\\left[c_1 cos(\\beta t) + c_2 sin(\\beta t)\\right]$$\n",
        "\n",
        "\n",
        "teniéndose de nuevo que $Y\\to 0$ cuando $t\\to \\infty$ debido a que el factor $e^{\\alpha t}$, con $\\alpha<0$, tiende a $0$ cuanto $t\\to \\infty$.\n"
      ]
    },
    {
      "cell_type": "markdown",
      "metadata": {
        "id": "PzwHXsXA98Zu",
        "colab_type": "text"
      },
      "source": [
        "Por otro lado, si $b=0$, $Y$ cumple con la ecuación:\n",
        "\n",
        "$$aY''+cY=0,$$\n",
        "\n",
        "cuya solución es de la forma $Y(t)=c_1sin\\left(\\sqrt{\\frac{c}{a}}t\\right)+c_2cos\\left(\\sqrt{\\frac{c}{a}}t\\right)$, la cual evidentemente no tiende a cero cuando $t\\to \\infty$."
      ]
    },
    {
      "cell_type": "markdown",
      "metadata": {
        "id": "I2z3vPRI98Zu",
        "colab_type": "text"
      },
      "source": [
        "b) <br>\n",
        "Cuando $g(t)=d$, una solución particular de la ecuación $aY''+bY'+cY=g(t)=d$ es simplemente $Y_{part}(t)=\\frac{d}{c}$, por lo que su solución general se presenta en los tres siguientes casos:\n",
        "\n",
        "$$Y(t)=\\underbrace{\\frac{d}{c}}_{\\text{solución particular}} + \\underbrace{c_1e^{r_1t}+c_2e^{r_2t}}_{\\text{solución sistema homogéneo}} \\hspace{3mm} (b^2-4ac >0,\\hspace{3mm} \\text{2 raíces reales distintas.})$$\n",
        "$$Y(t)=\\underbrace{\\frac{d}{c}}_{\\text{solución particular}} + \\underbrace{c_1e^{r_1t}+c_2te^{r_2t}}_{\\text{solución sistema homogéneo}} \\hspace{3mm} (b^2-4ac =0,\\hspace{3mm} \\text{2 raíces reales iguales.})$$\n",
        "$$Y(t)=\\underbrace{\\frac{d}{c}}_{\\text{solución particular}} + \\underbrace{e^{\\alpha t}\\left[c_1 cos(\\beta t) + c_2 sin(\\beta t)\\right]}_{\\text{solución sistema homogéneo}} \\hspace{3mm} (b^2-4ac <0,\\hspace{3mm} \\text{2 raíces complejas conjugadas.})$$\n"
      ]
    },
    {
      "cell_type": "markdown",
      "metadata": {
        "id": "wTOzSwbi98Zv",
        "colab_type": "text"
      },
      "source": [
        "Como se mencionó en el inciso anterior, $r_1,r_2,\\alpha<0$ en los 3 casos y por lo tanto las soluciones correspondientes a los sistemas homogéneos tienden a cero cuando $t\\to \\infty$, por lo que $Y(t)\\to \\frac{d}{c}$ cuando $t\\to \\infty$. "
      ]
    },
    {
      "cell_type": "markdown",
      "metadata": {
        "id": "SvBuyQnU98Zw",
        "colab_type": "text"
      },
      "source": [
        "Si $b=0$, la ecuación diferencial a solucionar sería $aY''+cY=d$, la cual tiene la solución general:\n",
        "$$Y(t)=\\frac{d}{c}+c_1sin\\left(\\sqrt{\\frac{c}{a}}t\\right)+c_2cos\\left(\\sqrt{\\frac{c}{a}}t\\right),$$ la cual evidentemente no tiende a cero cuando $t\\to \\infty$.<br><br>\n",
        "Si $c=0$, la ecuación diferencial a solucionar sería $aY''+bY'=d$, y la solución general en este caso sería $Y(t)=t\\frac{d}{b}+\\frac{a}{b}c_1e^{-(bt)/a}+c_2$, la cual tiende a $\\infty$ cuando $t\\to \\infty$."
      ]
    }
  ]
}